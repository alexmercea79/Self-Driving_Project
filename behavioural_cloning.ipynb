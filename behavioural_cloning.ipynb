{
 "cells": [
  {
   "cell_type": "code",
   "execution_count": 11,
   "source": [
    "import numpy as np\r\n",
    "import matplotlib.pyplot as plt\r\n",
    "import tensorflow.keras\r\n",
    "from tensorflow.keras.models import Sequential\r\n",
    "from tensorflow.keras.optimizers import Adam\r\n",
    "from tensorflow.keras.layers import Conv2D, Dense, Dropout, Flatten\r\n",
    "import cv2\r\n",
    "import pandas as pd\r\n",
    "import random\r\n",
    "import ntpath\r\n",
    "import os\r\n",
    "\r\n"
   ],
   "outputs": [],
   "metadata": {}
  },
  {
   "cell_type": "code",
   "execution_count": 12,
   "source": [
    "datadir = 'Data'\r\n",
    "columns = ['center','left','right','steering','throttle','reverse','speed']\r\n",
    "data = pd.read_csv(os.path.join(datadir,'driving_log.csv'), names=columns)\r\n",
    "pd.set_option('display.max_colwidth', -1)\r\n",
    "data.head()"
   ],
   "outputs": [
    {
     "output_type": "stream",
     "name": "stderr",
     "text": [
      "C:\\Users\\alexm\\AppData\\Local\\Temp/ipykernel_22352/2854318360.py:4: FutureWarning: Passing a negative integer is deprecated in version 1.0 and will not be supported in future version. Instead, use None to not limit the column width.\n",
      "  pd.set_option('display.max_colwidth', -1)\n"
     ]
    },
    {
     "output_type": "execute_result",
     "data": {
      "text/plain": [
       "                                                                                center  \\\n",
       "0  D:\\Programming Projects\\Self-Driving_Project\\IMG\\center_2021_08_05_15_07_56_776.jpg   \n",
       "1  D:\\Programming Projects\\Self-Driving_Project\\IMG\\center_2021_08_05_15_07_56_850.jpg   \n",
       "2  D:\\Programming Projects\\Self-Driving_Project\\IMG\\center_2021_08_05_15_07_56_925.jpg   \n",
       "3  D:\\Programming Projects\\Self-Driving_Project\\IMG\\center_2021_08_05_15_07_57_000.jpg   \n",
       "4  D:\\Programming Projects\\Self-Driving_Project\\IMG\\center_2021_08_05_15_07_57_075.jpg   \n",
       "\n",
       "                                                                                left  \\\n",
       "0  D:\\Programming Projects\\Self-Driving_Project\\IMG\\left_2021_08_05_15_07_56_776.jpg   \n",
       "1  D:\\Programming Projects\\Self-Driving_Project\\IMG\\left_2021_08_05_15_07_56_850.jpg   \n",
       "2  D:\\Programming Projects\\Self-Driving_Project\\IMG\\left_2021_08_05_15_07_56_925.jpg   \n",
       "3  D:\\Programming Projects\\Self-Driving_Project\\IMG\\left_2021_08_05_15_07_57_000.jpg   \n",
       "4  D:\\Programming Projects\\Self-Driving_Project\\IMG\\left_2021_08_05_15_07_57_075.jpg   \n",
       "\n",
       "                                                                                right  \\\n",
       "0  D:\\Programming Projects\\Self-Driving_Project\\IMG\\right_2021_08_05_15_07_56_776.jpg   \n",
       "1  D:\\Programming Projects\\Self-Driving_Project\\IMG\\right_2021_08_05_15_07_56_850.jpg   \n",
       "2  D:\\Programming Projects\\Self-Driving_Project\\IMG\\right_2021_08_05_15_07_56_925.jpg   \n",
       "3  D:\\Programming Projects\\Self-Driving_Project\\IMG\\right_2021_08_05_15_07_57_000.jpg   \n",
       "4  D:\\Programming Projects\\Self-Driving_Project\\IMG\\right_2021_08_05_15_07_57_075.jpg   \n",
       "\n",
       "   steering  throttle  reverse     speed  \n",
       "0  0.0       0.0       0.0      0.000024  \n",
       "1  0.0       0.0       0.0      0.000024  \n",
       "2  0.0       0.0       0.0      0.000024  \n",
       "3  0.0       0.0       0.0      0.000024  \n",
       "4  0.0       0.0       0.0      0.000024  "
      ],
      "text/html": [
       "<div>\n",
       "<style scoped>\n",
       "    .dataframe tbody tr th:only-of-type {\n",
       "        vertical-align: middle;\n",
       "    }\n",
       "\n",
       "    .dataframe tbody tr th {\n",
       "        vertical-align: top;\n",
       "    }\n",
       "\n",
       "    .dataframe thead th {\n",
       "        text-align: right;\n",
       "    }\n",
       "</style>\n",
       "<table border=\"1\" class=\"dataframe\">\n",
       "  <thead>\n",
       "    <tr style=\"text-align: right;\">\n",
       "      <th></th>\n",
       "      <th>center</th>\n",
       "      <th>left</th>\n",
       "      <th>right</th>\n",
       "      <th>steering</th>\n",
       "      <th>throttle</th>\n",
       "      <th>reverse</th>\n",
       "      <th>speed</th>\n",
       "    </tr>\n",
       "  </thead>\n",
       "  <tbody>\n",
       "    <tr>\n",
       "      <th>0</th>\n",
       "      <td>D:\\Programming Projects\\Self-Driving_Project\\IMG\\center_2021_08_05_15_07_56_776.jpg</td>\n",
       "      <td>D:\\Programming Projects\\Self-Driving_Project\\IMG\\left_2021_08_05_15_07_56_776.jpg</td>\n",
       "      <td>D:\\Programming Projects\\Self-Driving_Project\\IMG\\right_2021_08_05_15_07_56_776.jpg</td>\n",
       "      <td>0.0</td>\n",
       "      <td>0.0</td>\n",
       "      <td>0.0</td>\n",
       "      <td>0.000024</td>\n",
       "    </tr>\n",
       "    <tr>\n",
       "      <th>1</th>\n",
       "      <td>D:\\Programming Projects\\Self-Driving_Project\\IMG\\center_2021_08_05_15_07_56_850.jpg</td>\n",
       "      <td>D:\\Programming Projects\\Self-Driving_Project\\IMG\\left_2021_08_05_15_07_56_850.jpg</td>\n",
       "      <td>D:\\Programming Projects\\Self-Driving_Project\\IMG\\right_2021_08_05_15_07_56_850.jpg</td>\n",
       "      <td>0.0</td>\n",
       "      <td>0.0</td>\n",
       "      <td>0.0</td>\n",
       "      <td>0.000024</td>\n",
       "    </tr>\n",
       "    <tr>\n",
       "      <th>2</th>\n",
       "      <td>D:\\Programming Projects\\Self-Driving_Project\\IMG\\center_2021_08_05_15_07_56_925.jpg</td>\n",
       "      <td>D:\\Programming Projects\\Self-Driving_Project\\IMG\\left_2021_08_05_15_07_56_925.jpg</td>\n",
       "      <td>D:\\Programming Projects\\Self-Driving_Project\\IMG\\right_2021_08_05_15_07_56_925.jpg</td>\n",
       "      <td>0.0</td>\n",
       "      <td>0.0</td>\n",
       "      <td>0.0</td>\n",
       "      <td>0.000024</td>\n",
       "    </tr>\n",
       "    <tr>\n",
       "      <th>3</th>\n",
       "      <td>D:\\Programming Projects\\Self-Driving_Project\\IMG\\center_2021_08_05_15_07_57_000.jpg</td>\n",
       "      <td>D:\\Programming Projects\\Self-Driving_Project\\IMG\\left_2021_08_05_15_07_57_000.jpg</td>\n",
       "      <td>D:\\Programming Projects\\Self-Driving_Project\\IMG\\right_2021_08_05_15_07_57_000.jpg</td>\n",
       "      <td>0.0</td>\n",
       "      <td>0.0</td>\n",
       "      <td>0.0</td>\n",
       "      <td>0.000024</td>\n",
       "    </tr>\n",
       "    <tr>\n",
       "      <th>4</th>\n",
       "      <td>D:\\Programming Projects\\Self-Driving_Project\\IMG\\center_2021_08_05_15_07_57_075.jpg</td>\n",
       "      <td>D:\\Programming Projects\\Self-Driving_Project\\IMG\\left_2021_08_05_15_07_57_075.jpg</td>\n",
       "      <td>D:\\Programming Projects\\Self-Driving_Project\\IMG\\right_2021_08_05_15_07_57_075.jpg</td>\n",
       "      <td>0.0</td>\n",
       "      <td>0.0</td>\n",
       "      <td>0.0</td>\n",
       "      <td>0.000024</td>\n",
       "    </tr>\n",
       "  </tbody>\n",
       "</table>\n",
       "</div>"
      ]
     },
     "metadata": {},
     "execution_count": 12
    }
   ],
   "metadata": {}
  },
  {
   "cell_type": "code",
   "execution_count": 15,
   "source": [
    "def path_leaf(path):\r\n",
    "    head, tail = ntpath.split(path)\r\n",
    "    return tail\r\n",
    "data['center'] = data['center'].apply(path_leaf)\r\n",
    "data['left'] = data['left'].apply(path_leaf)\r\n",
    "data['right'] = data['right'].apply(path_leaf)\r\n",
    "data.head()"
   ],
   "outputs": [
    {
     "output_type": "execute_result",
     "data": {
      "text/plain": [
       "                               center                              left  \\\n",
       "0  center_2021_08_05_15_07_56_776.jpg  left_2021_08_05_15_07_56_776.jpg   \n",
       "1  center_2021_08_05_15_07_56_850.jpg  left_2021_08_05_15_07_56_850.jpg   \n",
       "2  center_2021_08_05_15_07_56_925.jpg  left_2021_08_05_15_07_56_925.jpg   \n",
       "3  center_2021_08_05_15_07_57_000.jpg  left_2021_08_05_15_07_57_000.jpg   \n",
       "4  center_2021_08_05_15_07_57_075.jpg  left_2021_08_05_15_07_57_075.jpg   \n",
       "\n",
       "                               right  steering  throttle  reverse     speed  \n",
       "0  right_2021_08_05_15_07_56_776.jpg  0.0       0.0       0.0      0.000024  \n",
       "1  right_2021_08_05_15_07_56_850.jpg  0.0       0.0       0.0      0.000024  \n",
       "2  right_2021_08_05_15_07_56_925.jpg  0.0       0.0       0.0      0.000024  \n",
       "3  right_2021_08_05_15_07_57_000.jpg  0.0       0.0       0.0      0.000024  \n",
       "4  right_2021_08_05_15_07_57_075.jpg  0.0       0.0       0.0      0.000024  "
      ],
      "text/html": [
       "<div>\n",
       "<style scoped>\n",
       "    .dataframe tbody tr th:only-of-type {\n",
       "        vertical-align: middle;\n",
       "    }\n",
       "\n",
       "    .dataframe tbody tr th {\n",
       "        vertical-align: top;\n",
       "    }\n",
       "\n",
       "    .dataframe thead th {\n",
       "        text-align: right;\n",
       "    }\n",
       "</style>\n",
       "<table border=\"1\" class=\"dataframe\">\n",
       "  <thead>\n",
       "    <tr style=\"text-align: right;\">\n",
       "      <th></th>\n",
       "      <th>center</th>\n",
       "      <th>left</th>\n",
       "      <th>right</th>\n",
       "      <th>steering</th>\n",
       "      <th>throttle</th>\n",
       "      <th>reverse</th>\n",
       "      <th>speed</th>\n",
       "    </tr>\n",
       "  </thead>\n",
       "  <tbody>\n",
       "    <tr>\n",
       "      <th>0</th>\n",
       "      <td>center_2021_08_05_15_07_56_776.jpg</td>\n",
       "      <td>left_2021_08_05_15_07_56_776.jpg</td>\n",
       "      <td>right_2021_08_05_15_07_56_776.jpg</td>\n",
       "      <td>0.0</td>\n",
       "      <td>0.0</td>\n",
       "      <td>0.0</td>\n",
       "      <td>0.000024</td>\n",
       "    </tr>\n",
       "    <tr>\n",
       "      <th>1</th>\n",
       "      <td>center_2021_08_05_15_07_56_850.jpg</td>\n",
       "      <td>left_2021_08_05_15_07_56_850.jpg</td>\n",
       "      <td>right_2021_08_05_15_07_56_850.jpg</td>\n",
       "      <td>0.0</td>\n",
       "      <td>0.0</td>\n",
       "      <td>0.0</td>\n",
       "      <td>0.000024</td>\n",
       "    </tr>\n",
       "    <tr>\n",
       "      <th>2</th>\n",
       "      <td>center_2021_08_05_15_07_56_925.jpg</td>\n",
       "      <td>left_2021_08_05_15_07_56_925.jpg</td>\n",
       "      <td>right_2021_08_05_15_07_56_925.jpg</td>\n",
       "      <td>0.0</td>\n",
       "      <td>0.0</td>\n",
       "      <td>0.0</td>\n",
       "      <td>0.000024</td>\n",
       "    </tr>\n",
       "    <tr>\n",
       "      <th>3</th>\n",
       "      <td>center_2021_08_05_15_07_57_000.jpg</td>\n",
       "      <td>left_2021_08_05_15_07_57_000.jpg</td>\n",
       "      <td>right_2021_08_05_15_07_57_000.jpg</td>\n",
       "      <td>0.0</td>\n",
       "      <td>0.0</td>\n",
       "      <td>0.0</td>\n",
       "      <td>0.000024</td>\n",
       "    </tr>\n",
       "    <tr>\n",
       "      <th>4</th>\n",
       "      <td>center_2021_08_05_15_07_57_075.jpg</td>\n",
       "      <td>left_2021_08_05_15_07_57_075.jpg</td>\n",
       "      <td>right_2021_08_05_15_07_57_075.jpg</td>\n",
       "      <td>0.0</td>\n",
       "      <td>0.0</td>\n",
       "      <td>0.0</td>\n",
       "      <td>0.000024</td>\n",
       "    </tr>\n",
       "  </tbody>\n",
       "</table>\n",
       "</div>"
      ]
     },
     "metadata": {},
     "execution_count": 15
    }
   ],
   "metadata": {}
  },
  {
   "cell_type": "code",
   "execution_count": 27,
   "source": [
    "num_bins = 25\r\n",
    "samples_per_bin = 350\r\n",
    "hist, bins = np.histogram(data['steering'], num_bins)\r\n",
    "center = (bins[:-1]+ bins[1:])*0.5\r\n",
    "print(center)\r\n",
    "plt.bar(center, hist, width=0.05)\r\n",
    "plt.plot((np.min(data['steering']),np.max(data['steering'])), (samples_per_bin,samples_per_bin))\r\n",
    "plt.show()"
   ],
   "outputs": [
    {
     "output_type": "stream",
     "name": "stdout",
     "text": [
      "[-0.96 -0.88 -0.8  -0.72 -0.64 -0.56 -0.48 -0.4  -0.32 -0.24 -0.16 -0.08\n",
      "  0.    0.08  0.16  0.24  0.32  0.4   0.48  0.56  0.64  0.72  0.8   0.88\n",
      "  0.96]\n"
     ]
    },
    {
     "output_type": "display_data",
     "data": {
      "text/plain": [
       "<Figure size 432x288 with 1 Axes>"
      ],
      "image/png": "[encoded data removed]"
     },
     "metadata": {
      "needs_background": "light"
     }
    }
   ],
   "metadata": {}
  }
 ],
 "metadata": {
  "orig_nbformat": 4,
  "language_info": {
   "name": "python",
   "version": "3.9.6",
   "mimetype": "text/x-python",
   "codemirror_mode": {
    "name": "ipython",
    "version": 3
   },
   "pygments_lexer": "ipython3",
   "nbconvert_exporter": "python",
   "file_extension": ".py"
  },
  "kernelspec": {
   "name": "python3",
   "display_name": "Python 3.9.6 64-bit ('general_env': conda)"
  },
  "interpreter": {
   "hash": "eb1063525ce892d0c528674b1c1740d987616fa50929a74996de9e0faa31f077"
  }
 },
 "nbformat": 4,
 "nbformat_minor": 2
}